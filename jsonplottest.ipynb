{
 "cells": [
  {
   "cell_type": "code",
   "execution_count": null,
   "id": "ba31a2d0",
   "metadata": {},
   "outputs": [],
   "source": [
    "import json\n",
    "json.loads(corrected_JSON_novel_1.json)"
   ]
  }
 ],
 "metadata": {
  "language_info": {
   "name": "python"
  }
 },
 "nbformat": 4,
 "nbformat_minor": 5
}
