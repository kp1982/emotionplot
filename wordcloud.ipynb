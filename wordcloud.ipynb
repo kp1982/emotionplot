{
 "cells": [
  {
   "cell_type": "code",
   "execution_count": null,
   "id": "e45bb8bf-6525-41e5-aba9-7fffe61fb564",
   "metadata": {},
   "outputs": [],
   "source": [
    "def generate_wordclouds(df, chunk_size):\n",
    "    \"\"\"\n",
    "    Generates word clouds for grouped sentences.\n",
    "\n",
    "    Parameters:\n",
    "    - df (pd.DataFrame): DataFrame containing sentences and emotional words.\n",
    "    - chunk_size (int): Number of sentences per group.\n",
    "\n",
    "    Returns:\n",
    "    - Displays word clouds for each sentence group.\n",
    "    \"\"\"\n",
    "\n",
    "    # Assign sentence groups dynamically based on chunk size\n",
    "    df[\"Sentence_Group\"] = df.index // chunk_size\n",
    "\n",
    "    # Group emotional words by sentence group\n",
    "    grouped_words = df.groupby(\"Sentence_Group\")[\"words\"].apply(lambda x: \" \".join(x)).reset_index()\n",
    "\n",
    "    # Create word clouds for each sentence group\n",
    "    fig, axes = plt.subplots(1, len(grouped_words), figsize=(15, 6))\n",
    "\n",
    "    # Generate word cloud for each sentence group\n",
    "    for i, row in grouped_words.iterrows():\n",
    "        wordcloud = WordCloud(width=400, height=400, background_color=\"white\").generate(row[\"words\"])\n",
    "        axes[i].imshow(wordcloud, interpolation=\"bilinear\")\n",
    "        axes[i].axis(\"off\")\n",
    "        axes[i].set_title(f\"Chunk {row['Sentence_Group']}\")\n",
    "\n",
    "    # Show the word clouds\n",
    "    plt.tight_layout()\n",
    "    plt.show()"
   ]
  }
 ],
 "metadata": {
  "kernelspec": {
   "display_name": "Python 3 (ipykernel)",
   "language": "python",
   "name": "python3"
  },
  "language_info": {
   "codemirror_mode": {
    "name": "ipython",
    "version": 3
   },
   "file_extension": ".py",
   "mimetype": "text/x-python",
   "name": "python",
   "nbconvert_exporter": "python",
   "pygments_lexer": "ipython3",
   "version": "3.12.9"
  }
 },
 "nbformat": 4,
 "nbformat_minor": 5
}
